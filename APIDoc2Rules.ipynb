{
 "cells": [
  {
   "cell_type": "code",
   "execution_count": 7,
   "metadata": {},
   "outputs": [],
   "source": [
    "import ujson\n",
    "import glob\n",
    "import os\n",
    "import re\n",
    "import pandas as pd\n",
    "from nltk.parse.corenlp import CoreNLPParser\n",
    "\n",
    "parser = CoreNLPParser(url='http://localhost:9010')"
   ]
  },
  {
   "cell_type": "code",
   "execution_count": 11,
   "metadata": {},
   "outputs": [],
   "source": [
    "# load the non-dreprecated java doc caveat sentences of methods (parameters or exception level)\n",
    "caveat_files_dir = './output/java_12_spec_caveat_sentences_revised/'\n",
    "caveats = []\n",
    "\n",
    "files = sorted(glob.glob(caveat_files_dir + '*.json'))\n",
    "for file in files:\n",
    "    with open(file) as f:\n",
    "        arr = ujson.load(f)\n",
    "        full_class_name = os.path.splitext(os.path.basename(file))[0]\n",
    "        simple_class_name = full_class_name.split('.')[-1]\n",
    "        \n",
    "        for caveat in arr:\n",
    "            if not caveat['deprecated'] and 'name' in caveat:\n",
    "                \n",
    "                # collect the name of parameters\n",
    "                collected = False\n",
    "                parameters = []\n",
    "                for misc_obj in caveat['caveat_misc']:\n",
    "                    if misc_obj['name'] == 'Parameters:':\n",
    "                        for obj in misc_obj['list']:\n",
    "                            parameters.append(obj['parameter'])\n",
    "                        collected = True\n",
    "                        break\n",
    "                        \n",
    "                for sentence in caveat['sentences']:\n",
    "                    caveats.append({\n",
    "                                    'obj': '',\n",
    "                                    'simple_class_name': simple_class_name,\n",
    "                                    'full_class_name': full_class_name,\n",
    "                                    'api': caveat['name'],\n",
    "                                    'signature': caveat['signature'],\n",
    "                                    'sentence': sentence,\n",
    "                                    'parameters': parameters,\n",
    "                                    'type': 'method'\n",
    "                                })\n",
    "\n",
    "                if collected:\n",
    "                    # add all parameter and exception level sentences\n",
    "                    for misc_obj in caveat['caveat_misc']:\n",
    "                        if misc_obj['name'] in ['Parameters:', 'Throws:']:\n",
    "                            for obj in misc_obj['list']:\n",
    "                                for misc_sentence in obj['sentences']:\n",
    "                                    if misc_obj['name'] == 'Parameters:':\n",
    "                                        caveats.append({\n",
    "                                            'obj': obj['parameter'],\n",
    "                                            'simple_class_name': simple_class_name,\n",
    "                                            'full_class_name': full_class_name,\n",
    "                                            'api': caveat['name'],\n",
    "                                            'signature': caveat['signature'],\n",
    "                                            'sentence': misc_sentence,\n",
    "                                            'parameters': parameters,\n",
    "                                            'type': 'parameter'\n",
    "                                        })\n",
    "                                    else:\n",
    "                                        caveats.append({\n",
    "                                            'obj': obj['exception'],\n",
    "                                            'simple_class_name': simple_class_name,\n",
    "                                            'full_class_name': full_class_name,\n",
    "                                            'api': caveat['name'],\n",
    "                                            'signature': caveat['signature'],\n",
    "                                            'sentence': misc_sentence,\n",
    "                                            'parameters': parameters,\n",
    "                                            'type': 'exception'\n",
    "                                        })\n",
    "                                        \n",
    "caveat_df = pd.DataFrame(caveats)"
   ]
  },
  {
   "cell_type": "code",
   "execution_count": 92,
   "metadata": {},
   "outputs": [],
   "source": [
    "def filter_by_pattern(sentence, patterns):\n",
    "    sentence = sentence.lower()\n",
    "    if sentence:\n",
    "        for pattern in patterns:\n",
    "            matches = re.search(pattern, sentence)\n",
    "            if matches:\n",
    "                return True\n",
    "    \n",
    "    return False\n",
    "\n",
    "# Regex patterns for filtering\n",
    "not_null_patterns = [\n",
    "    '(be|equal|equals|is) null',\n",
    "    'be (equal|equivalent) to null',\n",
    "    'not-null'\n",
    "]\n",
    "\n",
    "range_limitation_patterns = [\n",
    "    '<|>|=',\n",
    "    'less|greater|larger|equals|equal to|equivalent to|the same',\n",
    "    'be( not)? (in|out of|outside of).* range',\n",
    "    'negative|positive|non-negative|non-positive',\n",
    "]\n",
    "\n",
    "type_restriction_patterns = [\n",
    "    'is( not)? a'\n",
    "    'type'\n",
    "]\n",
    "\n",
    "def not_null_filter(sentence):\n",
    "    return filter_by_pattern(sentence, not_null_patterns)\n",
    "\n",
    "def range_limitation_filter(sentence):\n",
    "    return filter_by_pattern(sentence, range_limitation_patterns)\n",
    "\n",
    "def type_restriction_filter(sentence):\n",
    "    return filter_by_pattern(sentence, type_restriction_patterns)"
   ]
  },
  {
   "cell_type": "code",
   "execution_count": 82,
   "metadata": {},
   "outputs": [
    {
     "name": "stdout",
     "output_type": "stream",
     "text": [
      "YES\n"
     ]
    }
   ],
   "source": [
    "match = re.search('instance of|derived from', \"this is a test str, and a is derived from\")\n",
    "if match:\n",
    "    print(\"YES\")"
   ]
  },
  {
   "cell_type": "code",
   "execution_count": 93,
   "metadata": {},
   "outputs": [],
   "source": [
    "# not null caveats\n",
    "not_null_df = caveat_df[caveat_df['sentence'].apply(not_null_filter)]\n",
    "\n",
    "# range limitation caveats\n",
    "range_df = caveat_df[caveat_df['sentence'].apply(range_limitation_filter)]\n",
    "\n",
    "# type restriction caveats\n",
    "type_df = caveat_df[caveat_df['sentence'].apply(type_restriction_filter)]"
   ]
  },
  {
   "cell_type": "code",
   "execution_count": 94,
   "metadata": {},
   "outputs": [
    {
     "name": "stdout",
     "output_type": "stream",
     "text": [
      "Number of not null candidates: 5939\n",
      "Number of range limitation candidates: 6677\n",
      "Number of type restriction candidates: 0\n"
     ]
    }
   ],
   "source": [
    "print('Number of not null candidates: {}'.format(len(not_null_df.index)))\n",
    "print('Number of range limitation candidates: {}'.format(len(range_df.index)))\n",
    "print('Number of type restriction candidates: {}'.format(len(type_df.index)))"
   ]
  },
  {
   "cell_type": "code",
   "execution_count": 91,
   "metadata": {},
   "outputs": [
    {
     "name": "stdout",
     "output_type": "stream",
     "text": [
      "{'id': 11512, 'text': 'if the index is greater than or equal to frameCount() or is negative.', 'labels': ['RangeLimitation']}\n",
      "{'id': 11514, 'text': 'That is, the exception is thrown if any of the following are true: start < 0 start >= frameCount() length < 0 (start+length) > frameCount()', 'labels': ['RangeLimitation']}\n",
      "{'id': 11605, 'text': 'if size <= 0', 'labels': ['RangeLimitation']}\n",
      "{'id': 11692, 'text': 'if the specified offset is less than the first text boundary or greater than the last text boundary.', 'labels': ['RangeLimitation']}\n",
      "{'id': 11696, 'text': 'if the port parameter is outside the specified range of valid port values, which is between 0 and 65535, inclusive.', 'labels': ['RangeLimitation']}\n",
      "{'id': 11740, 'text': 'if there is an error accessing the BLOB value or if pos is less than 1', 'labels': ['RangeLimitation']}\n",
      "{'id': 11741, 'text': 'if there is an error accessing the BLOB value or if len is less than 0', 'labels': ['RangeLimitation']}\n",
      "{'id': 11802, 'text': 'if val is infinite or NaN.', 'labels': ['RangeLimitation']}\n",
      "{'id': 11805, 'text': 'if divisor is zero, roundingMode==RoundingMode.UNNECESSARY and the specified scale is insufficient to represent the result of the division exactly.', 'labels': ['RangeLimitation']}\n",
      "{'id': 11806, 'text': 'if divisor==0, or roundingMode==RoundingMode.UNNECESSARY and this.scale() is insufficient to represent the result of the division exactly.', 'labels': ['RangeLimitation']}\n",
      "{'id': 11808, 'text': 'if divisor==0', 'labels': ['RangeLimitation']}\n",
      "{'id': 11809, 'text': 'if mc.precision > 0 and the result requires a precision of more than mc.precision digits.', 'labels': ['RangeLimitation']}\n",
      "{'id': 11810, 'text': 'if the result is inexact but the rounding mode is UNNECESSARY, or mc.precision > 0 and the result of this.divideToIntgralValue(divisor) would require a precision of more than mc.precision digits.', 'labels': ['RangeLimitation']}\n",
      "{'id': 11811, 'text': 'if this is less than zero.', 'labels': ['RangeLimitation']}\n",
      "{'id': 11873, 'text': 'if the index is out of range (index < 0 || index > size())', 'labels': ['RangeLimitation']}\n",
      "{'id': 11885, 'text': 'for an illegal endpoint index value (fromIndex < 0 || toIndex > size || fromIndex > toIndex)', 'labels': ['RangeLimitation']}\n",
      "{'id': 11897, 'text': 'If off is negative, len is negative, or len is greater than b.length - off', 'labels': ['RangeLimitation']}\n",
      "{'id': 11898, 'text': 'if member < 1', 'labels': ['RangeLimitation']}\n",
      "{'id': 11899, 'text': 'if a null range is specified or if a non-null range is specified with lowerBound less than 1', 'labels': ['RangeLimitation']}\n",
      "{'id': 11910, 'text': 'If the new size is negative', 'labels': ['RangeLimitation']}\n",
      "{'id': 11918, 'text': 'If the position is negative or the buffer is read-only', 'labels': ['RangeLimitation']}\n",
      "{'id': 11920, 'text': 'If the position is negative', 'labels': ['RangeLimitation']}\n",
      "{'id': 11955, 'text': 'if the offset is out of range', 'labels': ['RangeLimitation']}\n",
      "{'id': 11957, 'text': 'if index is less than 0 or greater than or equal to the number of fields specified for the event', 'labels': ['RangeLimitation']}\n",
      "{'Ambiguous': 348, 'NullnessNotAllowed': 102, 'TypeRestriction': 3, 'Dependent': 9, 'RangeLimitation': 24}\n"
     ]
    }
   ],
   "source": [
    "with open('./labelled_data/labelled_exception_full.jsonl') as f:\n",
    "    counts = {}\n",
    "    for line in f:\n",
    "        obj = ujson.loads(line)\n",
    "        if obj['labels']:\n",
    "            if obj['labels'][0] not in counts:\n",
    "                counts[obj['labels'][0]] = 0\n",
    "                \n",
    "            if obj['labels'][0] == 'RangeLimitation':\n",
    "                print(obj)\n",
    "            counts[obj['labels'][0]] += 1\n",
    "    print(counts)"
   ]
  },
  {
   "cell_type": "code",
   "execution_count": 57,
   "metadata": {},
   "outputs": [
    {
     "name": "stdout",
     "output_type": "stream",
     "text": [
      "645\n"
     ]
    }
   ],
   "source": [
    "unique_not_null_df = not_null_df.drop_duplicates('sentence').sample(frac=1)\n",
    "print(len(unique_not_null_df.index))\n",
    "\n",
    "with open('./labelled_data/not_null_rules.txt', 'w+') as f:\n",
    "    for i in unique_not_null_df.index:\n",
    "        f.write(unique_not_null_df.loc[i, 'sentence'] + '\\n')"
   ]
  },
  {
   "cell_type": "code",
   "execution_count": null,
   "metadata": {},
   "outputs": [],
   "source": []
  },
  {
   "cell_type": "code",
   "execution_count": 8,
   "metadata": {},
   "outputs": [
    {
     "name": "stdout",
     "output_type": "stream",
     "text": [
      "                ROOT                          \n",
      "                 |                             \n",
      "                 S                            \n",
      "       __________|__________________________   \n",
      "      |                     VP              | \n",
      "      |                 ____|___            |  \n",
      "      |                |        PP          | \n",
      "      |                |     ___|_____      |  \n",
      "      |                |    |         S     | \n",
      "      |                |    |         |     |  \n",
      "      NP               |    |         VP    | \n",
      "  ____|__________      |    |         |     |  \n",
      " DT   JJ    JJ   NN   VBZ   IN       VBG    . \n",
      " |    |     |    |     |    |         |     |  \n",
      "The quick brown fox  sucks  at     jumping  . \n",
      "\n"
     ]
    }
   ],
   "source": [
    "next(parser.raw_parse('The quick brown fox sucks at jumping.')).pretty_print()"
   ]
  },
  {
   "cell_type": "code",
   "execution_count": null,
   "metadata": {},
   "outputs": [],
   "source": []
  }
 ],
 "metadata": {
  "kernelspec": {
   "display_name": "nlp",
   "language": "python",
   "name": "nlp"
  },
  "language_info": {
   "codemirror_mode": {
    "name": "ipython",
    "version": 3
   },
   "file_extension": ".py",
   "mimetype": "text/x-python",
   "name": "python",
   "nbconvert_exporter": "python",
   "pygments_lexer": "ipython3",
   "version": "3.6.8"
  }
 },
 "nbformat": 4,
 "nbformat_minor": 2
}
