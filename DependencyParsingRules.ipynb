{
 "cells": [
  {
   "cell_type": "code",
   "execution_count": 6,
   "metadata": {},
   "outputs": [],
   "source": [
    "import ujson\n",
    "import glob\n",
    "import os\n",
    "import re\n",
    "import pandas as pd\n",
    "from nltk.parse.corenlp import CoreNLPDependencyParser, CoreNLPParser\n",
    "parser = CoreNLPDependencyParser(url='http://localhost:9010')"
   ]
  },
  {
   "cell_type": "code",
   "execution_count": 7,
   "metadata": {},
   "outputs": [],
   "source": [
    "# load the non-dreprecated java doc caveat sentences of methods (parameters or exception level)\n",
    "caveat_files_dir = './output/java_12_spec_caveat_sentences_revised/'\n",
    "parameter_caveats = []\n",
    "exception_caveats = []\n",
    "\n",
    "files = sorted(glob.glob(caveat_files_dir + '*.json'))\n",
    "for file in files:\n",
    "    with open(file) as f:\n",
    "        arr = ujson.load(f)\n",
    "        full_class_name = os.path.splitext(os.path.basename(file))[0]\n",
    "        simple_class_name = full_class_name.split('.')[-1]\n",
    "        \n",
    "        for caveat in arr:\n",
    "            if not caveat['deprecated'] and 'name' in caveat:\n",
    "                \n",
    "                # collect the name of parameters\n",
    "                collected = False\n",
    "                parameters = []\n",
    "                for misc_obj in caveat['caveat_misc']:\n",
    "                    if misc_obj['name'] == 'Parameters:':\n",
    "                        for obj in misc_obj['list']:\n",
    "                            parameters.append(obj['parameter'])\n",
    "                        collected = True\n",
    "                        break\n",
    "\n",
    "                if collected:\n",
    "                    # add all parameter and exception level sentences\n",
    "                    for misc_obj in caveat['caveat_misc']:\n",
    "                        if misc_obj['name'] in ['Parameters:', 'Throws:']:\n",
    "                            for obj in misc_obj['list']:\n",
    "                                for misc_sentence in obj['sentences']:\n",
    "                                    if misc_obj['name'] == 'Parameters:':\n",
    "                                        e = {\n",
    "                                            'obj': obj['parameter'],\n",
    "                                            'simple_class_name': simple_class_name,\n",
    "                                            'full_class_name': full_class_name,\n",
    "                                            'api': caveat['name'],\n",
    "                                            'signature': caveat['signature'],\n",
    "                                            'sentence': misc_sentence,\n",
    "                                            'parameters': parameters,\n",
    "                                            'type': 'parameter'\n",
    "                                        }\n",
    "                                        parameter_caveats.append(e)\n",
    "                                    else:\n",
    "                                        e = {\n",
    "                                            'obj': obj['exception'],\n",
    "                                            'simple_class_name': simple_class_name,\n",
    "                                            'full_class_name': full_class_name,\n",
    "                                            'api': caveat['name'],\n",
    "                                            'signature': caveat['signature'],\n",
    "                                            'sentence': misc_sentence,\n",
    "                                            'parameters': parameters,\n",
    "                                            'type': 'exception'\n",
    "                                        }\n",
    "                                        exception_caveats.append(e)\n",
    "\n",
    "parameter_caveat_df = pd.DataFrame(parameter_caveats)\n",
    "exception_caveat_df = pd.DataFrame(exception_caveats)"
   ]
  },
  {
   "cell_type": "code",
   "execution_count": null,
   "metadata": {},
   "outputs": [],
   "source": [
    "def extract_not_null_rules:\n",
    "    nouns = []\n",
    "    "
   ]
  },
  {
   "cell_type": "code",
   "execution_count": 5,
   "metadata": {},
   "outputs": [
    {
     "name": "stdout",
     "output_type": "stream",
     "text": [
      "('null', 'JJ') mark ('if', 'IN')\n",
      "('null', 'JJ') nsubj ('class', 'NN')\n",
      "('class', 'NN') det ('the', 'DT')\n",
      "('class', 'NN') amod ('supplied', 'VBN')\n",
      "('class', 'NN') cc ('or', 'CC')\n",
      "('class', 'NN') conj ('array', 'NN')\n",
      "('null', 'JJ') cop ('is', 'VBZ')\n",
      "('null', 'JJ') punct ('.', '.')\n"
     ]
    }
   ],
   "source": [
    "parse, = parser.raw_parse(\"if the supplied class or array is null.\")\n",
    "for governor, dep, dependent in parse.triples():\n",
    "    print(governor, dep, dependent)  # doctest: +NORMALIZE_WHITESPACE"
   ]
  },
  {
   "cell_type": "code",
   "execution_count": null,
   "metadata": {},
   "outputs": [],
   "source": []
  }
 ],
 "metadata": {
  "kernelspec": {
   "display_name": "nlp",
   "language": "python",
   "name": "nlp"
  },
  "language_info": {
   "codemirror_mode": {
    "name": "ipython",
    "version": 3
   },
   "file_extension": ".py",
   "mimetype": "text/x-python",
   "name": "python",
   "nbconvert_exporter": "python",
   "pygments_lexer": "ipython3",
   "version": "3.6.8"
  }
 },
 "nbformat": 4,
 "nbformat_minor": 2
}
