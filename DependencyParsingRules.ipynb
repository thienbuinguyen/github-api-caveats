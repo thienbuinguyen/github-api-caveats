{
 "cells": [
  {
   "cell_type": "code",
   "execution_count": 237,
   "metadata": {},
   "outputs": [],
   "source": [
    "import ujson\n",
    "import glob\n",
    "import os\n",
    "import re\n",
    "import pandas as pd\n",
    "from nltk.parse.corenlp import CoreNLPDependencyParser, CoreNLPParser\n",
    "from nltk.tree import Tree\n",
    "# parser = CoreNLPDependencyParser(url='http://localhost:9010')\n",
    "posparser = CoreNLPParser(url='http://localhost:9010', tagtype='pos')"
   ]
  },
  {
   "cell_type": "code",
   "execution_count": 224,
   "metadata": {},
   "outputs": [],
   "source": [
    "# load the non-dreprecated java doc caveat sentences of methods (parameters or exception level)\n",
    "caveat_files_dir = './output/java_12_spec_caveat_sentences_revised/'\n",
    "parameter_caveats = []\n",
    "exception_caveats = []\n",
    "\n",
    "files = sorted(glob.glob(caveat_files_dir + '*.json'))\n",
    "for file in files:\n",
    "    with open(file) as f:\n",
    "        arr = ujson.load(f)\n",
    "        full_class_name = os.path.splitext(os.path.basename(file))[0]\n",
    "        simple_class_name = full_class_name.split('.')[-1]\n",
    "        \n",
    "        for caveat in arr:\n",
    "            if not caveat['deprecated'] and 'name' in caveat:\n",
    "                \n",
    "                # collect the name of parameters\n",
    "                collected = False\n",
    "                parameters = []\n",
    "                for misc_obj in caveat['caveat_misc']:\n",
    "                    if misc_obj['name'] == 'Parameters:':\n",
    "                        for obj in misc_obj['list']:\n",
    "                            parameters.append(obj['parameter'])\n",
    "                        collected = True\n",
    "                        break\n",
    "\n",
    "                if collected:\n",
    "                    # add all parameter and exception level sentences\n",
    "                    for misc_obj in caveat['caveat_misc']:\n",
    "                        if misc_obj['name'] in ['Parameters:', 'Throws:']:\n",
    "                            for obj in misc_obj['list']:\n",
    "                                for misc_sentence in obj['sentences']:\n",
    "                                    if misc_obj['name'] == 'Parameters:':\n",
    "                                        e = {\n",
    "                                            'obj': obj['parameter'],\n",
    "                                            'simple_class_name': simple_class_name,\n",
    "                                            'full_class_name': full_class_name,\n",
    "                                            'api': caveat['name'],\n",
    "                                            'signature': caveat['signature'],\n",
    "                                            'sentence': misc_sentence,\n",
    "                                            'parameters': parameters,\n",
    "                                            'type': 'parameter'\n",
    "                                        }\n",
    "                                        parameter_caveats.append(e)\n",
    "                                    else:\n",
    "                                        e = {\n",
    "                                            'obj': obj['exception'],\n",
    "                                            'simple_class_name': simple_class_name,\n",
    "                                            'full_class_name': full_class_name,\n",
    "                                            'api': caveat['name'],\n",
    "                                            'signature': caveat['signature'],\n",
    "                                            'sentence': misc_sentence,\n",
    "                                            'parameters': parameters,\n",
    "                                            'type': 'exception'\n",
    "                                        }\n",
    "                                        exception_caveats.append(e)\n",
    "\n",
    "parameter_caveat_df = pd.DataFrame(parameter_caveats)\n",
    "exception_caveat_df = pd.DataFrame(exception_caveats)"
   ]
  },
  {
   "cell_type": "code",
   "execution_count": 133,
   "metadata": {},
   "outputs": [
    {
     "name": "stdout",
     "output_type": "stream",
     "text": [
      "This is the end of the string or the position of the \"#\" character, if present.\n",
      "the DriverAction implementation to be used when DriverManager#deregisterDriver is called\n",
      "whether local cipher suites order in #getCipherSuites should be honored during SSL/TLS/DTLS handshaking.\n",
      "A string representing the attribute defaulting mode (\"#IMPLIED\", \"#REQUIRED\", or \"#FIXED\") or null if none of these applies.\n"
     ]
    }
   ],
   "source": [
    "for i in parameter_caveat_df.index:\n",
    "    sent = parameter_caveat_df.loc[i, 'sentence']\n",
    "    if '#' in sent:\n",
    "        print(sent)"
   ]
  },
  {
   "cell_type": "code",
   "execution_count": 217,
   "metadata": {},
   "outputs": [],
   "source": [
    "def normalise_values(sentence):\n",
    "    patterns = [\n",
    "        '\\W(-?[0-9]+(?:,[0-9]+)*(?:(?:\\.[0-9]+)?[a-z]*))\\W', # specific numeric value\n",
    "        r'\\W((^(java\\.|javax\\.|org\\.))?([A-Za-z_]\\w*\\.)+\\w+)[^A-Za-z0-9_\\(\\)]', # member value of object/Class\n",
    "    ]\n",
    "    \n",
    "    value_prefix = '@VAL'\n",
    "    value_dict  = {}\n",
    "    \n",
    "    for pattern in patterns:\n",
    "        match = re.search(pattern, sentence)\n",
    "        while match:\n",
    "            key = value_prefix + str(len(value_dict))\n",
    "            value_dict[key] = match.group(1)\n",
    "            next_pattern = re.escape(match.group(1))\n",
    "            sentence = re.sub(next_pattern, key, sentence)\n",
    "\n",
    "            match = re.search(pattern, sentence)\n",
    "            \n",
    "    return sentence, value_dict\n",
    "\n",
    "# Sentence normalisation functions\n",
    "def normalise_members(sentence):\n",
    "    # variable substitutions\n",
    "    patterns = [\n",
    "        r'\\W(\"[^\"]+\")\\W', # simple string\n",
    "        r'\\W([A-Za-z_]+[A-Za-z_0-9]*(\\.[A-Za-z_]+[A-Za-z_0-9])*(#[A-Za-z_]+[A-Za-z_0-9]*)?\\([^\\(\\)]*\\))\\W', # class methods\n",
    "        r'\\W([A-Za-z_]+[A-Za-z_0-9]*(\\.[A-Za-z_]+[A-Za-z_0-9])*#[A-Za-z_]+[A-Za-z_0-9]*)[^A-Za-z0-9_\\(\\)]', # static method\n",
    "        r'(#[A-Za-z_]+[A-Za-z_0-9]*)[^A-Za-z0-9_\\(\\)]', # static member by itself\n",
    "        r'\\W((\\w+\\.)*([A-Z]+_)*[A-Z]+)\\W', # all uppercase\n",
    "        r'\\W([a-z_][A-Za-z_0-9]*\\([^\\)]*\\))\\W', # standalone methods\n",
    "        r'\\W([a-z_]+[A-Za-z_0-9]*\\.[a-z_]+[A-Za-z_0-9]*)\\W', # variable fields\n",
    "    ]\n",
    "\n",
    "    member_prefix = '@MEMBER'\n",
    "    member_dict = {}\n",
    "\n",
    "    # normalise all variables/methods/fields that match predefined regex patterns\n",
    "    for pattern in patterns:\n",
    "        match = re.search(pattern, sentence)\n",
    "        while match:\n",
    "            print(pattern)\n",
    "            print(match)\n",
    "            key = member_prefix + str(len(member_dict))\n",
    "            member_dict[key] = match.group(1)\n",
    "            next_pattern = re.escape(match.group(1))\n",
    "            sentence = re.sub(next_pattern, key, sentence)\n",
    "            print(sentence)\n",
    "\n",
    "            match = re.search(pattern, sentence)\n",
    "\n",
    "    return sentence, member_dict\n",
    "\n",
    "def normalise_expressions(sentence):\n",
    "    patterns = [\n",
    "        '\\W(\\w+((\\s+-)|(-\\s+)|(\\s+-\\s+))\\w+)\\W', # subtraction\n",
    "        '\\W(\\w+\\s*\\+\\s*\\w+)\\W', # addition\n",
    "        '\\W(\\w+\\s*\\*\\s*\\w+)\\W', # multiplication\n",
    "        # ranges\n",
    "        r'\\W(\\[\\s*\\w+\\s*(\\.\\s*\\.\\s*)\\s*\\w+\\s*\\])\\W',\n",
    "        r'\\W(\\[\\s*\\w+\\s*,\\s*\\w+\\s*\\])\\W',\n",
    "        r'\\W(\\(?\\s*\\w+\\s*\\)?\\s*\\.\\s*\\.\\s*\\(?\\s*\\w+\\s*\\)?)\\W',\n",
    "        r'\\W(([Ff]rom\\s+)?\\w+\\s+to\\s+\\w+)\\W',\n",
    "        # equality\n",
    "        r'\\W(\\w+\\s*<=?\\s*\\w+\\s*<=?\\s*\\w+)\\W',\n",
    "        r'\\W(\\w+\\s*>=?\\s*\\w+\\s*>=?\\s*\\w+)\\W',\n",
    "        r'\\W(\\w+\\s*!=\\s*\\w+)\\W',\n",
    "        r'\\W ((\\s*\\w+\\s*)(,\\s*\\w+\\s*)+,?\\s*or\\s*\\w+)\\W'\n",
    "    ]\n",
    "    \n",
    "    expr_prefix = \"@EXPR\"\n",
    "    expr_dict = {}\n",
    "    \n",
    "    for pattern in patterns:\n",
    "        match = re.search(pattern, sentence)\n",
    "\n",
    "        while match:\n",
    "            print(match)\n",
    "            key = expr_prefix + str(len(expr_dict))\n",
    "            escaped = re.escape(match.group(1))\n",
    "            sentence = re.sub(escaped, key, sentence)\n",
    "            expr_dict[key] = match.group(1)\n",
    "    \n",
    "            match = re.search(pattern, sentence) \n",
    "            print(sentence)\n",
    "            \n",
    "    return sentence, expr_dict\n",
    "\n",
    "def normalise(sentence):\n",
    "    sentence, member_dict = normalise_members(sentence)\n",
    "    sentence, expr_dict = normalise_expressions(sentence)\n",
    "    sentence, value_dict = normalise_values(sentence)\n",
    "    \n",
    "    placeholders = dict()\n",
    "    placeholders.update(value_dict)\n",
    "    placeholders.update(member_dict)\n",
    "    placeholders.update(expr_dict)\n",
    "    \n",
    "    return sentence, placeholders"
   ]
  },
  {
   "cell_type": "code",
   "execution_count": 207,
   "metadata": {},
   "outputs": [
    {
     "name": "stdout",
     "output_type": "stream",
     "text": [
      "('0', 'CD') mark ('if', 'IN')\n",
      "('0', 'CD') nsubj ('component', 'NN')\n",
      "('0', 'CD') cop ('is', 'VBZ')\n",
      "('0', 'CD') advmod ('less', 'JJR')\n",
      "('less', 'JJR') mwe ('than', 'IN')\n",
      "('0', 'CD') cc ('or', 'CC')\n",
      "('0', 'CD') conj ('greater', 'JJR')\n",
      "('0', 'CD') nmod ('@EXPR0', 'NN')\n",
      "('@EXPR0', 'NN') case ('than', 'IN')\n"
     ]
    }
   ],
   "source": [
    "parse, = parser.raw_parse(\" if component is less than 0 or greater than @EXPR0 \")\n",
    "for governor, dep, dependent in parse.triples():\n",
    "    print(governor, dep, dependent)  # doctest: +NORMALIZE_WHITESPACE"
   ]
  },
  {
   "cell_type": "code",
   "execution_count": 296,
   "metadata": {},
   "outputs": [
    {
     "name": "stdout",
     "output_type": "stream",
     "text": [
      "HERE\n",
      "(ADJP less than 0)\n",
      "(ADJP greater)\n",
      "[('if', 'IN'), ('Component', 'NNP'), ('is', 'VBZ'), ('less', 'JJR'), ('than', 'IN'), ('0', 'CD'), ('or', 'CC'), ('greater', 'JJR'), ('than', 'IN'), ('EXPRESSION', 'NN')]\n"
     ]
    }
   ],
   "source": [
    "a = next(next(posparser.raw_parse_sents([' if Component is less than 0 or greater than EXPRESSION '])))\n",
    "\n",
    "def recurse(node):\n",
    "    for child in node:\n",
    "        try:\n",
    "            if child.label() == 'CC':\n",
    "                print('HERE')\n",
    "                for c in node:\n",
    "                    if (c.label() != 'CC'):\n",
    "                        print(c.flatten())\n",
    "            else:\n",
    "                recurse(child)\n",
    "        except:\n",
    "            pass\n",
    "\n",
    "recurse(a)\n",
    "\n",
    "print(a.pos())"
   ]
  },
  {
   "cell_type": "code",
   "execution_count": 222,
   "metadata": {},
   "outputs": [
    {
     "data": {
      "text/plain": [
       "(' if maxPathLength is set to a value less than -1 ', {})"
      ]
     },
     "execution_count": 222,
     "metadata": {},
     "output_type": "execute_result"
    }
   ],
   "source": [
    "normalise_members(' if maxPathLength is set to a value less than -1 ')"
   ]
  },
  {
   "cell_type": "code",
   "execution_count": null,
   "metadata": {},
   "outputs": [],
   "source": []
  }
 ],
 "metadata": {
  "kernelspec": {
   "display_name": "nlp",
   "language": "python",
   "name": "nlp"
  },
  "language_info": {
   "codemirror_mode": {
    "name": "ipython",
    "version": 3
   },
   "file_extension": ".py",
   "mimetype": "text/x-python",
   "name": "python",
   "nbconvert_exporter": "python",
   "pygments_lexer": "ipython3",
   "version": "3.6.8"
  }
 },
 "nbformat": 4,
 "nbformat_minor": 2
}
