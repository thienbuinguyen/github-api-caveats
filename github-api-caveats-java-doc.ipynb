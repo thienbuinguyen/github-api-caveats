{
 "cells": [
  {
   "cell_type": "code",
   "execution_count": 37,
   "metadata": {},
   "outputs": [],
   "source": [
    "import json\n",
    "import glob\n",
    "import os\n",
    "import nltk\n",
    "from random import sample, shuffle, seed"
   ]
  },
  {
   "cell_type": "code",
   "execution_count": 38,
   "metadata": {},
   "outputs": [],
   "source": [
    "caveat_files_dir = './output/java_12_spec_caveat_sentences/'\n",
    "caveats_dict = {}\n",
    "\n",
    "files = glob.glob(caveat_files_dir + '*.json')\n",
    "for file in files:\n",
    "    with open(file) as f:\n",
    "        arr = json.load(f)\n",
    "        for caveat in arr:\n",
    "            caveats_dict[caveat['id']] = caveat"
   ]
  },
  {
   "cell_type": "code",
   "execution_count": 39,
   "metadata": {},
   "outputs": [
    {
     "name": "stdout",
     "output_type": "stream",
     "text": [
      "Number of classes: 4712\n",
      "Number of caveats: 49023\n",
      "Number of class level caveat sentences: 10526\n",
      "Number of api level caveat sentences: 38270\n",
      "Number of misc caveat objects: 26426\n",
      "Number of deprecated caveats: 1522\n",
      "{'constructor': 4172, 'method': 33827, 'field': 6403}\n"
     ]
    }
   ],
   "source": [
    "# Print statistics about the caveats found using keywords\n",
    "\n",
    "caveat_type_count = {} # map caveat types to their counts\n",
    "print(\"Number of classes: {}\".format(len(files)))\n",
    "\n",
    "class_level_sentences = 0\n",
    "caveat_sentences = 0\n",
    "caveat_misc_objects = 0\n",
    "deprecated = 0\n",
    "num_caveats = len(caveats_dict)\n",
    "\n",
    "for key in caveats_dict:\n",
    "    caveat = caveats_dict[key]\n",
    "    \n",
    "    if \"class_level_caveat_sentences\" in caveat:\n",
    "        class_level_sentences += len(caveat[\"class_level_caveat_sentences\"])\n",
    "    else:\n",
    "        caveat_sentences += len(caveat['caveat_sentences'])\n",
    "        caveat_misc_objects += len(caveat['caveat_misc'])\n",
    "\n",
    "    if caveat['deprecated']:\n",
    "        deprecated += 1\n",
    "    \n",
    "    if 'type' in caveat:\n",
    "        if caveat['type'] == '':\n",
    "            print(caveat)\n",
    "            break\n",
    "        \n",
    "        if not caveat['type'] in caveat_type_count:\n",
    "            caveat_type_count[caveat['type']] = 1\n",
    "        else:\n",
    "            caveat_type_count[caveat['type']] += 1\n",
    "\n",
    "print(\"Number of caveats: {}\".format(num_caveats))\n",
    "print(\"Number of class level caveat sentences: {}\".format(class_level_sentences))\n",
    "print(\"Number of api level caveat sentences: {}\".format(caveat_sentences))  \n",
    "print(\"Number of misc caveat objects: {}\".format(caveat_misc_objects))\n",
    "print(\"Number of deprecated caveats: {}\".format(deprecated))\n",
    "print(caveat_type_count)"
   ]
  },
  {
   "cell_type": "code",
   "execution_count": 40,
   "metadata": {},
   "outputs": [],
   "source": [
    "def write_to_doccano_import_file(file, arr):\n",
    "    \"\"\" Write the dict objects within an input array to a json file in doccano import format \"\"\"\n",
    "    with open(file, 'w+') as f:\n",
    "        for obj in arr:\n",
    "            f.write(json.dumps(obj) + '\\n')"
   ]
  },
  {
   "cell_type": "code",
   "execution_count": 41,
   "metadata": {},
   "outputs": [
    {
     "name": "stdout",
     "output_type": "stream",
     "text": [
      "Number of class sentences: 10364\n",
      "Number of method sentences: 33398\n",
      "Number of field sentences: 1845\n",
      "Number of constructor sentences: 2189\n",
      "Number of misc sentences: 56385\n"
     ]
    }
   ],
   "source": [
    "caveat_sentences_array = []\n",
    "sentence_id_to_caveat_id = {}\n",
    "\n",
    "for key in caveats_dict:\n",
    "    caveat = caveats_dict[key]\n",
    "    \n",
    "    if caveat['deprecated']:\n",
    "        continue\n",
    " \n",
    "    if 'class_level_caveat_sentences' in caveat:\n",
    "        for sentence in caveat['class_level_caveat_sentences']:\n",
    "            sentence_id_to_caveat_id[len(caveat_sentences_array)] = caveat['id']\n",
    "            caveat_sentences_array.append({\n",
    "                'text': sentence, \n",
    "                 'id': len(caveat_sentences_array),\n",
    "                 'type': 'class'\n",
    "            })\n",
    "    else:\n",
    "        for sentence in caveat['caveat_sentences']:\n",
    "            sentence_id_to_caveat_id[len(caveat_sentences_array)] = caveat['id']\n",
    "            caveat_sentences_array.append({\n",
    "                'text': sentence, \n",
    "                 'id': len(caveat_sentences_array),\n",
    "                 'type': caveat['type']\n",
    "            })\n",
    "\n",
    "            # add sentences for throws, returns etc...\n",
    "            if caveat['type'] in ['method', 'constructor']:\n",
    "                for misc in caveat['caveat_misc']:\n",
    "                    for sentence in misc['text_list']:\n",
    "                        sentence_id_to_caveat_id[len(caveat_sentences_array)] = caveat['id']\n",
    "                        caveat_sentences_array.append({\n",
    "                            'text': sentence, \n",
    "                             'id': len(caveat_sentences_array),\n",
    "                            'type': 'misc@' + misc['name'] \n",
    "                        })\n",
    "\n",
    "class_sentences = [o for o in caveat_sentences_array if o['type'] == 'class']\n",
    "method_sentences = [o for o in caveat_sentences_array if o['type'] == 'method']\n",
    "field_sentences = [o for o in caveat_sentences_array if o['type'] == 'field']\n",
    "constructor_sentences = [o for o in caveat_sentences_array if o['type'] == 'constructor']\n",
    "misc_sentences = [o for o in caveat_sentences_array if 'misc' in o['type']]\n",
    "\n",
    "print(\"Number of class sentences: {}\".format(len(class_sentences)))\n",
    "print(\"Number of method sentences: {}\".format(len(method_sentences)))\n",
    "print(\"Number of field sentences: {}\".format(len(field_sentences)))\n",
    "print(\"Number of constructor sentences: {}\".format(len(constructor_sentences)))\n",
    "print(\"Number of misc sentences: {}\".format(len(misc_sentences)))"
   ]
  },
  {
   "cell_type": "code",
   "execution_count": 42,
   "metadata": {},
   "outputs": [
    {
     "name": "stdout",
     "output_type": "stream",
     "text": [
      "Number of unique class sentences: 9465\n",
      "Number of unique method sentences: 22531\n",
      "Number of unique field sentences: 1581\n",
      "Number of unique constructor sentences: 1307\n",
      "Number of unique misc sentences: 13369\n"
     ]
    }
   ],
   "source": [
    "def get_unique_text_objs(arr):\n",
    "    seen_text = set()\n",
    "    filtered = []\n",
    "    for obj in arr:\n",
    "        if not obj['text'] in seen_text:\n",
    "            filtered.append(obj)\n",
    "            seen_text.add(obj['text'])\n",
    "        \n",
    "    return filtered\n",
    "\n",
    "seed(42)\n",
    "\n",
    "filtered_class_sentences = get_unique_text_objs(class_sentences)\n",
    "filtered_method_sentences = get_unique_text_objs(method_sentences)\n",
    "filtered_field_sentences = get_unique_text_objs(field_sentences)\n",
    "filtered_constructor_sentences = get_unique_text_objs(constructor_sentences)\n",
    "filtered_misc_sentences = get_unique_text_objs(misc_sentences)\n",
    "\n",
    "shuffle(filtered_class_sentences)\n",
    "shuffle(filtered_method_sentences)\n",
    "shuffle(filtered_field_sentences)\n",
    "shuffle(filtered_constructor_sentences)\n",
    "shuffle(filtered_misc_sentences)\n",
    "\n",
    "print(\"Number of unique class sentences: {}\".format(len(filtered_class_sentences)))\n",
    "print(\"Number of unique method sentences: {}\".format(len(filtered_method_sentences)))\n",
    "print(\"Number of unique field sentences: {}\".format(len(filtered_field_sentences)))\n",
    "print(\"Number of unique constructor sentences: {}\".format(len(filtered_constructor_sentences)))\n",
    "print(\"Number of unique misc sentences: {}\".format(len(filtered_misc_sentences)))"
   ]
  },
  {
   "cell_type": "code",
   "execution_count": 43,
   "metadata": {},
   "outputs": [],
   "source": [
    "# write data to annotate to different files\n",
    "\n",
    "write_to_doccano_import_file('./output/class_sentences_doccano.jsonl', filtered_class_sentences)\n",
    "write_to_doccano_import_file('./output/method_sentences_doccano.jsonl', filtered_method_sentences)\n",
    "write_to_doccano_import_file('./output/field_sentences_doccano.jsonl', filtered_field_sentences)\n",
    "write_to_doccano_import_file('./output/constructor_sentences_doccano.jsonl', filtered_constructor_sentences)\n",
    "write_to_doccano_import_file('./output/misc_sentences_doccano.jsonl', filtered_misc_sentences)"
   ]
  },
  {
   "cell_type": "code",
   "execution_count": null,
   "metadata": {},
   "outputs": [],
   "source": []
  }
 ],
 "metadata": {
  "kernelspec": {
   "display_name": "nlp",
   "language": "python",
   "name": "nlp"
  },
  "language_info": {
   "codemirror_mode": {
    "name": "ipython",
    "version": 3
   },
   "file_extension": ".py",
   "mimetype": "text/x-python",
   "name": "python",
   "nbconvert_exporter": "python",
   "pygments_lexer": "ipython3",
   "version": "3.6.8"
  }
 },
 "nbformat": 4,
 "nbformat_minor": 2
}
