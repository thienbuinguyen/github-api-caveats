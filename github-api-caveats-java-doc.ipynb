{
 "cells": [
  {
   "cell_type": "code",
   "execution_count": 42,
   "metadata": {},
   "outputs": [],
   "source": [
    "import json\n",
    "import glob\n",
    "import os\n",
    "import nltk\n",
    "from random import sample, shuffle, seed"
   ]
  },
  {
   "cell_type": "code",
   "execution_count": 43,
   "metadata": {},
   "outputs": [],
   "source": [
    "caveat_files_dir = './output/java_12_spec_caveat_sentences/'\n",
    "caveats_dict = {}\n",
    "\n",
    "files = glob.glob(caveat_files_dir + '*.json')\n",
    "for file in files:\n",
    "    with open(file) as f:\n",
    "        arr = json.load(f)\n",
    "        for caveat in arr:\n",
    "            caveats_dict[caveat['id']] = caveat"
   ]
  },
  {
   "cell_type": "code",
   "execution_count": 44,
   "metadata": {},
   "outputs": [
    {
     "name": "stdout",
     "output_type": "stream",
     "text": [
      "Number of classes: 4712\n",
      "Number of caveats: 49023\n",
      "Number of class level caveat sentences: 10589\n",
      "Number of api level caveat sentences: 38270\n",
      "Number of misc caveat objects: 26426\n",
      "Number of deprecated caveats: 1522\n",
      "{'constructor': 4172, 'method': 33827, 'field': 6403}\n"
     ]
    }
   ],
   "source": [
    "# Print statistics about the caveats found using keywords\n",
    "\n",
    "caveat_type_count = {} # map caveat types to their counts\n",
    "print(\"Number of classes: {}\".format(len(files)))\n",
    "\n",
    "class_level_sentences = 0\n",
    "caveat_sentences = 0\n",
    "caveat_misc_objects = 0\n",
    "deprecated = 0\n",
    "num_caveats = len(caveats_dict)\n",
    "\n",
    "for key in caveats_dict:\n",
    "    caveat = caveats_dict[key]\n",
    "    \n",
    "    if \"class_level_caveat_sentences\" in caveat:\n",
    "        class_level_sentences += len(caveat[\"class_level_caveat_sentences\"])\n",
    "    else:\n",
    "        caveat_sentences += len(caveat['caveat_sentences'])\n",
    "        caveat_misc_objects += len(caveat['caveat_misc'])\n",
    "\n",
    "    if caveat['deprecated']:\n",
    "        deprecated += 1\n",
    "    \n",
    "    if 'type' in caveat:\n",
    "        if caveat['type'] == '':\n",
    "            print(caveat)\n",
    "            break\n",
    "        \n",
    "        if not caveat['type'] in caveat_type_count:\n",
    "            caveat_type_count[caveat['type']] = 1\n",
    "        else:\n",
    "            caveat_type_count[caveat['type']] += 1\n",
    "\n",
    "print(\"Number of caveats: {}\".format(num_caveats))\n",
    "print(\"Number of class level caveat sentences: {}\".format(class_level_sentences))\n",
    "print(\"Number of api level caveat sentences: {}\".format(caveat_sentences))  \n",
    "print(\"Number of misc caveat objects: {}\".format(caveat_misc_objects))\n",
    "print(\"Number of deprecated caveats: {}\".format(deprecated))\n",
    "print(caveat_type_count)"
   ]
  },
  {
   "cell_type": "code",
   "execution_count": 45,
   "metadata": {},
   "outputs": [],
   "source": [
    "def write_to_doccano_import_file(file, arr):\n",
    "    \"\"\" Write the dict objects within an input array to a json file in doccano import format \"\"\"\n",
    "    with open(file, 'w+') as f:\n",
    "        for obj in arr:\n",
    "            f.write(json.dumps(obj) + '\\n')"
   ]
  },
  {
   "cell_type": "code",
   "execution_count": 109,
   "metadata": {},
   "outputs": [
    {
     "name": "stdout",
     "output_type": "stream",
     "text": [
      "Number of class sentences: 10125\n",
      "Number of method sentences: 33155\n",
      "Number of field sentences: 1844\n",
      "Number of constructor sentences: 2184\n",
      "Number of misc sentences: 55216\n",
      "{'text': 'the approximate accumulated elapsed time in milliseconds that a thread entered the FIELD_0 state; -1 if thread contention monitoring is disabled.', 'id': 5, 'type': 'misc@Returns:'}\n",
      "-----------------------------------\n",
      "Number of exception sentences: 31679\n",
      "Number of return sentences: 11279\n",
      "Number of parameter sentences: 11376\n"
     ]
    }
   ],
   "source": [
    "caveat_sentences_array = []\n",
    "sentence_id_to_caveat_id = {}\n",
    "\n",
    "for key in caveats_dict:\n",
    "    caveat = caveats_dict[key]\n",
    "    \n",
    "    if caveat['deprecated']:\n",
    "        continue\n",
    " \n",
    "    if 'class_level_caveat_sentences' in caveat:\n",
    "        for sentence in caveat['class_level_caveat_sentences']:\n",
    "            if len(sentence) > 0:\n",
    "                sentence_id_to_caveat_id[len(caveat_sentences_array)] = caveat['id']\n",
    "                caveat_sentences_array.append({\n",
    "                    'text': sentence, \n",
    "                     'id': len(caveat_sentences_array),\n",
    "                     'type': 'class'\n",
    "                })\n",
    "    else:\n",
    "        for sentence in caveat['caveat_sentences']:\n",
    "            if len(sentence) > 0:\n",
    "                sentence_id_to_caveat_id[len(caveat_sentences_array)] = caveat['id']\n",
    "                caveat_sentences_array.append({\n",
    "                    'text': sentence, \n",
    "                     'id': len(caveat_sentences_array),\n",
    "                     'type': caveat['type']\n",
    "                })\n",
    "\n",
    "            # add sentences for throws, returns etc...\n",
    "            if caveat['type'] in ['method', 'constructor']:\n",
    "                for misc in caveat['caveat_misc']:\n",
    "                    for misc_sentence in misc['text_list']:\n",
    "                        if len(misc_sentence) > 0:\n",
    "                            sentence_id_to_caveat_id[len(caveat_sentences_array)] = caveat['id']\n",
    "                            caveat_sentences_array.append({\n",
    "                                'text': misc_sentence, \n",
    "                                 'id': len(caveat_sentences_array),\n",
    "                                'type': 'misc@' + misc['name']\n",
    "                            })\n",
    "\n",
    "class_sentences = [o for o in caveat_sentences_array if o['type'] == 'class' and len(o['text']) <= 400]\n",
    "method_sentences = [o for o in caveat_sentences_array if o['type'] == 'method' and len(o['text']) <= 400]\n",
    "field_sentences = [o for o in caveat_sentences_array if o['type'] == 'field' and len(o['text']) <= 400]\n",
    "constructor_sentences = [o for o in caveat_sentences_array if o['type'] == 'constructor' and len(o['text']) <= 400]\n",
    "misc_sentences = [o for o in caveat_sentences_array if 'misc' in o['type'] and len(o['text']) <= 400]\n",
    "        \n",
    "print(\"Number of class sentences: {}\".format(len(class_sentences)))\n",
    "print(\"Number of method sentences: {}\".format(len(method_sentences)))\n",
    "print(\"Number of field sentences: {}\".format(len(field_sentences)))\n",
    "print(\"Number of constructor sentences: {}\".format(len(constructor_sentences)))\n",
    "\n",
    "exception_sentences = [o for o in misc_sentences if 'Throws:' == o['type'].split('@')[1]]\n",
    "return_sentences = [o for o in misc_sentences if 'Returns:' == o['type'].split('@')[1]]\n",
    "parameter_sentences = [o for o in misc_sentences if 'Parameters:' == o['type'].split('@')[1]]\n",
    "\n",
    "print('-----------------------------------')\n",
    "print('Number of exception sentences: {}'.format(len(exception_sentences)))\n",
    "print('Number of return sentences: {}'.format(len(return_sentences)))\n",
    "print('Number of parameter sentences: {}'.format(len(parameter_sentences)))\n"
   ]
  },
  {
   "cell_type": "code",
   "execution_count": 110,
   "metadata": {},
   "outputs": [
    {
     "name": "stdout",
     "output_type": "stream",
     "text": [
      "Number of unique class sentences: 9089\n",
      "Number of unique method sentences: 22309\n",
      "Number of unique field sentences: 1580\n",
      "Number of unique constructor sentences: 1302\n",
      "-----------------------------------\n",
      "Number of exception sentences: 6098\n",
      "Number of return sentences: 4076\n",
      "Number of parameter sentences: 2767\n"
     ]
    }
   ],
   "source": [
    "def get_unique_text_objs(arr):\n",
    "    seen_text = set()\n",
    "    filtered = []\n",
    "    for obj in arr:\n",
    "        if not obj['text'] in seen_text:\n",
    "            filtered.append(obj)\n",
    "            seen_text.add(obj['text'])\n",
    "        \n",
    "    return filtered\n",
    "\n",
    "seed(42)\n",
    "\n",
    "filtered_class_sentences = get_unique_text_objs(class_sentences)\n",
    "filtered_method_sentences = get_unique_text_objs(method_sentences)\n",
    "filtered_field_sentences = get_unique_text_objs(field_sentences)\n",
    "filtered_constructor_sentences = get_unique_text_objs(constructor_sentences)\n",
    "# misc sentences\n",
    "filtered_exception_sentences = get_unique_text_objs(exception_sentences)\n",
    "filtered_return_sentences = get_unique_text_objs(return_sentences)\n",
    "filtered_parameter_sentences = get_unique_text_objs(parameter_sentences)\n",
    "\n",
    "print(\"Number of unique class sentences: {}\".format(len(filtered_class_sentences)))\n",
    "print(\"Number of unique method sentences: {}\".format(len(filtered_method_sentences)))\n",
    "print(\"Number of unique field sentences: {}\".format(len(filtered_field_sentences)))\n",
    "print(\"Number of unique constructor sentences: {}\".format(len(filtered_constructor_sentences)))\n",
    "print('-----------------------------------')\n",
    "print('Number of exception sentences: {}'.format(len(filtered_exception_sentences)))\n",
    "print('Number of return sentences: {}'.format(len(filtered_return_sentences)))\n",
    "print('Number of parameter sentences: {}'.format(len(filtered_parameter_sentences)))\n",
    "\n",
    "# sample 384 of each list for 95% confidence interval with 5% error margin\n",
    "filtered_class_sentences = sample(filtered_class_sentences, 384)\n",
    "filtered_method_sentences = sample(filtered_method_sentences, 384)\n",
    "filtered_field_sentences = sample(filtered_field_sentences, 384)\n",
    "filtered_constructor_sentences = sample(filtered_constructor_sentences, 384)"
   ]
  },
  {
   "cell_type": "code",
   "execution_count": 52,
   "metadata": {},
   "outputs": [],
   "source": [
    "# write data to annotate to different files\n",
    "write_to_doccano_import_file('./output/method_sentences_doccano.jsonl', filtered_method_sentences)\n",
    "write_to_doccano_import_file('./output/constructor_sentences_doccano.jsonl', filtered_constructor_sentences)"
   ]
  },
  {
   "cell_type": "code",
   "execution_count": 93,
   "metadata": {},
   "outputs": [],
   "source": [
    "# modify labelled data from doccano\n",
    "def get_labelled_doccano_data(labelled_file, metadata):\n",
    "    with open(labelled_file) as f, open(metadata) as metadata_f:\n",
    "        id_to_label = {}\n",
    "        arr = json.load(metadata_f)\n",
    "        for e in arr:\n",
    "            id_to_label[e['id']] = e['text']\n",
    "\n",
    "        data = []\n",
    "        for line in f:\n",
    "            line = line.strip()\n",
    "            obj = json.loads(line)\n",
    "            obj['labels'] = [id_to_label[i['label']] for i in obj['annotations']]\n",
    "            obj.pop('annotations', None)\n",
    "            obj.pop('meta', None)\n",
    "            obj.pop('annotation_approver', None)\n",
    "            data.append(obj)\n",
    "    \n",
    "        return data"
   ]
  },
  {
   "cell_type": "code",
   "execution_count": 99,
   "metadata": {},
   "outputs": [],
   "source": [
    "def get_labelled_data(file):\n",
    "    with open(file) as f:\n",
    "        return json.load(f)\n",
    "    \n",
    "def get_label_counts(arr):\n",
    "    counts = {}\n",
    "    \n",
    "    for e in arr:\n",
    "        for label in e['labels']:\n",
    "            if not label in counts:\n",
    "                counts[label] = 1\n",
    "            else:\n",
    "                counts[label] += 1\n",
    "                \n",
    "    return counts"
   ]
  },
  {
   "cell_type": "code",
   "execution_count": 130,
   "metadata": {},
   "outputs": [],
   "source": [
    "labelled_methods_sents = get_labelled_data('labelled_method_sentences.json')\n",
    "labelled_constructor_sents = get_labelled_data('labelled_constructor_sentences.json')"
   ]
  },
  {
   "cell_type": "code",
   "execution_count": 136,
   "metadata": {},
   "outputs": [
    {
     "name": "stdout",
     "output_type": "stream",
     "text": [
      "{'id': 3223, 'text': 'If the file exists but is a directory rather than a regular file, does not exist but cannot be created, or cannot be opened for any other reason then a CLASS_1 is thrown.', 'labels': ['Exception']}\n",
      "{'id': 3236, 'text': 'The array must have at least two elements or calling the filter method for Rasters will throw an IllegalArgumentException.', 'labels': ['Exception']}\n",
      "{'id': 3241, 'text': 'This method throws an CLASS_1 if PARAMETER_2 is null.', 'labels': ['Exception']}\n",
      "{'id': 3251, 'text': 'Note: if the specified output stream is null, a NullPointerException may be thrown later when it is used.', 'labels': ['Exception']}\n",
      "{'id': 3310, 'text': 'If the extension object is unsuitable, an CLASS_1 should be thrown.', 'labels': ['Exception']}\n",
      "{'id': 3313, 'text': 'If PARAMETER_0 is null and PARAMETER_1 is not null, then an CLASS_3 is thrown.', 'labels': ['Exception']}\n",
      "{'id': 3322, 'text': 'A ServiceConfigurationError, CLASS_3 or CLASS_4 thrown when loading or calling an LdapDnsProvider, if encountered, will be propagated to the calling thread.', 'labels': ['Exception']}\n",
      "{'id': 3332, 'text': 'If PARAMETER_2 or PARAMETER_3 is null, or if both PARAMETER_0 and PARAMETER_1 are specified and METHOD_5 then an CLASS_2 is thrown.', 'labels': ['Exception']}\n",
      "{'id': 3350, 'text': 'If PARAMETER_1 is an invalid value, an exception will be thrown.', 'labels': ['Exception']}\n",
      "{'id': 3354, 'text': 'Otherwise an attempt to execute this CLASS_0 will result in a CLASS_1.', 'labels': ['Exception']}\n",
      "{'id': 3356, 'text': 'An exception will be thrown if an attempt is made to construct another object of a given class with the same integer key as a pre-existing instance of that subclass of Key.', 'labels': ['Exception']}\n",
      "{'id': 3359, 'text': 'If CLASS_6 is null CLASS_8 is thrown.', 'labels': ['Exception']}\n",
      "{'id': 3399, 'text': 'For example, a SaslException might result from a problem with the callback handler, which might throw a NoSuchCallbackException if it does not support the requested callback, or throw an IOException if it had problems obtaining data for the callback.', 'labels': ['Exception']}\n",
      "{'id': 3408, 'text': 'If PARAMETER_1 is not a sibling of PARAMETER_0, then an CLASS_3 is thrown.', 'labels': ['Exception']}\n",
      "{'id': 3455, 'text': 'If PARAMETER_0 is null or has zero length, an CLASS_1 is thrown.', 'labels': ['Exception']}\n",
      "{'id': 3483, 'text': 'Even if inconsistent values for relative and absolute coordinates are passed to the constructor, the mouse event instance is still created and no exception is thrown.', 'labels': ['Exception']}\n",
      "{'id': 3485, 'text': 'An CLASS_0 is thrown if the length of the array PARAMETER_1 is non-zero and either PARAMETER_0 is negative, PARAMETER_2 is negative, or METHOD_0 is greater than the length of PARAMETER_1.', 'labels': ['Exception', 'Guard']}\n",
      "{'id': 3493, 'text': 'This constructor does not throw any exception for invalid PARAMETER_0.', 'labels': ['Exception']}\n",
      "{'id': 3508, 'text': 'An CLASS_1 is thrown if the precision section of the string is out of range (< 0) or the string is not in the format created by the METHOD_0 method.', 'labels': ['Exception', 'Guard']}\n",
      "{'id': 3526, 'text': 'This method throws an CLASS_2 if PARAMETER_0 or PARAMETER_1 is null.', 'labels': ['Exception']}\n",
      "{'id': 3536, 'text': 'If the whole sequence does not represent a well-defined color conversion, an exception is thrown.', 'labels': ['Exception']}\n"
     ]
    }
   ],
   "source": [
    "for sent in labelled_constructor_sents:\n",
    "    if 'Exception' in sent['labels']:\n",
    "        print(sent)"
   ]
  },
  {
   "cell_type": "code",
   "execution_count": null,
   "metadata": {},
   "outputs": [],
   "source": []
  }
 ],
 "metadata": {
  "kernelspec": {
   "display_name": "nlp",
   "language": "python",
   "name": "nlp"
  },
  "language_info": {
   "codemirror_mode": {
    "name": "ipython",
    "version": 3
   },
   "file_extension": ".py",
   "mimetype": "text/x-python",
   "name": "python",
   "nbconvert_exporter": "python",
   "pygments_lexer": "ipython3",
   "version": "3.6.8"
  }
 },
 "nbformat": 4,
 "nbformat_minor": 2
}
