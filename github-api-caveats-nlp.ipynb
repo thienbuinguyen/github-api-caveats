{
 "cells": [
  {
   "cell_type": "code",
   "execution_count": 1,
   "metadata": {},
   "outputs": [],
   "source": [
    "import json\n",
    "import nltk\n",
    "import glob\n",
    "import os\n",
    "from nltk.corpus import stopwords\n",
    "from nltk.stem import WordNetLemmatizer, PorterStemmer\n",
    "from nltk.tokenize import sent_tokenize , word_tokenize\n",
    "import re\n",
    "from sklearn.feature_extraction.text import CountVectorizer\n",
    "\n",
    "stemmer = PorterStemmer()\n",
    "stop_words = set(stopwords.words('english'))\n",
    "\n",
    "caveat_files_dir = '/media/thien/Data Drive1/api_12_caveat_sentences/'"
   ]
  },
  {
   "cell_type": "code",
   "execution_count": 2,
   "metadata": {},
   "outputs": [],
   "source": [
    "# load the extracted java-related GitHub data\n",
    "issues = []\n",
    "issue_comments = []\n",
    "pull_requests = []\n",
    "pull_request_comments = []\n",
    "\n",
    "with open('./output/java-2018-issues.json') as issues_f, \\\n",
    "    open('./output/java-2018-issue-comments.json') as issue_comments_f,\\\n",
    "    open('./output/java-2018-pull-requests.json') as pull_requests_f,\\\n",
    "    open('./output/java-2018-pull-request-comments.json') as pull_request_comments_f:\n",
    "    issues = json.load(issues_f)\n",
    "    issue_comments = json.load(issue_comments_f)\n",
    "    pull_requests = json.load(pull_requests_f)\n",
    "    pull_request_comments = json.load(pull_request_comments_f)\n",
    "\n",
    "caveats_dict = {}\n",
    "\n",
    "files = glob.glob(caveat_files_dir + '*.json')\n",
    "for file in files:\n",
    "    with open(file) as f:\n",
    "        arr = json.load(f)\n",
    "        name = os.path.basename(file)\n",
    "        \n",
    "        caveats_dict[name] = arr"
   ]
  },
  {
   "cell_type": "code",
   "execution_count": 3,
   "metadata": {},
   "outputs": [
    {
     "name": "stdout",
     "output_type": "stream",
     "text": [
      "Number of issues: 427886\n",
      "Number of issue comments: 1659881\n",
      "Number of pull requests: 413899\n",
      "Number of pull request comments: 551345\n"
     ]
    }
   ],
   "source": [
    "# Print number of GitHub data\n",
    "print('Number of issues: {}'.format(len(issues)))\n",
    "print('Number of issue comments: {}'.format(len(issue_comments)))\n",
    "print('Number of pull requests: {}'.format(len(pull_requests)))\n",
    "print('Number of pull request comments: {}'.format(len(pull_request_comments)))"
   ]
  },
  {
   "cell_type": "code",
   "execution_count": 4,
   "metadata": {},
   "outputs": [],
   "source": [
    "def preprocess(doc):\n",
    "    if not doc:\n",
    "        return []\n",
    "    \n",
    "    # remove leading/ending white spaces\n",
    "    doc = doc.strip()\n",
    "        \n",
    "    # remove all inline code or code blocks\n",
    "    doc = re.sub(r'```([^```]*)```', '', doc)\n",
    "    doc = re.sub(r'`([^`]*)`', '', doc)\n",
    "    \n",
    "    # remove more than 1 whitespace\n",
    "    doc = re.sub(' +', ' ', doc)\n",
    "    \n",
    "    # lowercase\n",
    "    doc = doc.lower()\n",
    "\n",
    "    return sent_tokenize(doc)"
   ]
  },
  {
   "cell_type": "code",
   "execution_count": 5,
   "metadata": {},
   "outputs": [],
   "source": [
    "def tokenize(sentence):   \n",
    "    # remove url links\n",
    "    sentence = re.sub(r'https?:\\/\\/(www\\.)?[-a-zA-Z0-9@:%._\\+~#=]{1,256}\\.[a-zA-Z0-9()]{1,6}\\b([-a-zA-Z0-9()@:%_\\+.~#?&//=]*)',             \n",
    "        '', sentence)\n",
    "    \n",
    "    # remove paths\n",
    "    sentence = re.sub(r'/[^/]*(/[^/]*)*/?', '', sentence)\n",
    "    \n",
    "    # remove punctuation except for single space\n",
    "    sentence = re.sub(r'[^A-Za-z_ ]', '', sentence)\n",
    "         \n",
    "    # return a list of the stemmed, tokenized words that are not stop words\n",
    "    return [stemmer.stem(i) for i in word_tokenize(sentence) if i not in stop_words]\n",
    "    "
   ]
  },
  {
   "cell_type": "code",
   "execution_count": 46,
   "metadata": {
    "scrolled": true
   },
   "outputs": [],
   "source": [
    "sentences = []\n",
    "for obj in issues:\n",
    "    if obj['body']:\n",
    "        for sentence in preprocess(obj['body']):\n",
    "            sentences.append(tokenize(sentence))"
   ]
  },
  {
   "cell_type": "code",
   "execution_count": 83,
   "metadata": {},
   "outputs": [
    {
     "name": "stdout",
     "output_type": "stream",
     "text": [
      "1058658\n"
     ]
    }
   ],
   "source": [
    "print(len(sentences))\n",
    "\n",
    "cv = CountVectorizer(\n",
    "    lowercase=False,\n",
    "    tokenizer=lambda x: x,\n",
    "    binary=True,\n",
    "    min_df=0.001\n",
    ")  \n",
    "\n",
    "x = cv.fit_transform(sentences)"
   ]
  },
  {
   "cell_type": "code",
   "execution_count": 84,
   "metadata": {},
   "outputs": [
    {
     "name": "stdout",
     "output_type": "stream",
     "text": [
      "['_', '_at', 'abil', 'abl', 'accept', 'access', 'accord', 'account', 'achiev', 'across', 'action', 'activ', 'actual', 'ad', 'adapt', 'add', 'addit', 'addon', 'address', 'adjust', 'admin', 'advanc', 'affect', 'agent', 'aggreg', 'ago', 'algorithm', 'allow', 'almost', 'along', 'alreadi', 'also', 'altern', 'although', 'altscreen', 'alway', 'amount', 'analysi', 'android', 'anim', 'annot', 'anoth', 'answer', 'anymor', 'anyon', 'anyth', 'anyway', 'apach', 'api', 'apk', 'app', 'appear', 'appli', 'applic', 'appreci', 'approach', 'appropri', 'area', 'arent', 'argument', 'around', 'array', 'artifact', 'ask', 'assign', 'assigne', 'associ', 'assum', 'attach', 'attack', 'attempt', 'attribut', 'audio', 'authent', 'author', 'auto', 'autom', 'automat', 'avail', 'avoid', 'aw', 'away', 'awesom', 'b', 'back', 'backend', 'background', 'backup', 'bad', 'bar', 'base', 'basic', 'bazel', 'bean', 'becom', 'begin', 'behavior', 'behaviorth', 'behaviour', 'behind']\n",
      "1154\n"
     ]
    }
   ],
   "source": [
    "print(cv.get_feature_names()[:100])\n",
    "print(len(cv.get_feature_names()))"
   ]
  },
  {
   "cell_type": "code",
   "execution_count": 113,
   "metadata": {},
   "outputs": [
    {
     "name": "stdout",
     "output_type": "stream",
     "text": [
      "147\n"
     ]
    }
   ],
   "source": [
    "c = 0\n",
    "for obj in issue_comments:\n",
    "    if 'body' in obj and obj['body'] and 'BufferedReader' in obj['body']:\n",
    "        c += 1\n",
    "        \n",
    "print(c)"
   ]
  },
  {
   "cell_type": "code",
   "execution_count": null,
   "metadata": {},
   "outputs": [],
   "source": []
  }
 ],
 "metadata": {
  "kernelspec": {
   "display_name": "nlp",
   "language": "python",
   "name": "nlp"
  },
  "language_info": {
   "codemirror_mode": {
    "name": "ipython",
    "version": 3
   },
   "file_extension": ".py",
   "mimetype": "text/x-python",
   "name": "python",
   "nbconvert_exporter": "python",
   "pygments_lexer": "ipython3",
   "version": "3.6.8"
  }
 },
 "nbformat": 4,
 "nbformat_minor": 2
}
