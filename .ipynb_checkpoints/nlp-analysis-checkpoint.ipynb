{
 "cells": [
  {
   "cell_type": "code",
   "execution_count": 8,
   "metadata": {},
   "outputs": [],
   "source": [
    "import ujson"
   ]
  },
  {
   "cell_type": "code",
   "execution_count": 16,
   "metadata": {},
   "outputs": [],
   "source": [
    "path = '/media/thien/Data Drive1/combined_sim_results.jsonl'\n",
    "output_k_results = '/media/thien/Data Drive1/combined_sim_results_k_10.jsonl'\n",
    "\n",
    "match_count = {}\n",
    "with open(path) as f:\n",
    "    for line in f:\n",
    "        obj = ujson.loads(line)\n",
    "        id = obj['caveat_sentence_id']\n",
    "        \n",
    "        if id not in match_count:\n",
    "            match_count[id] = 1\n",
    "        else:\n",
    "            match_count[id] += 1"
   ]
  },
  {
   "cell_type": "code",
   "execution_count": 14,
   "metadata": {},
   "outputs": [
    {
     "name": "stdout",
     "output_type": "stream",
     "text": [
      "Found 8220 queries with 10 matches\n"
     ]
    }
   ],
   "source": [
    "k = 10\n",
    "caveat_sentence_ids_k = []\n",
    "for key in match_count:\n",
    "    if match_count[key] >= k:\n",
    "        caveat_sentence_ids_k.append(k)\n",
    "        \n",
    "print('Found {} queries with {} matches'.format(len(caveat_sentence_ids_k), k))"
   ]
  },
  {
   "cell_type": "code",
   "execution_count": 19,
   "metadata": {},
   "outputs": [],
   "source": [
    "with open(path) as f, open(output_k_results, 'w+') as f_out:\n",
    "    objs = []\n",
    "    id = None\n",
    "    for line in f:\n",
    "        obj = ujson.loads(line)\n",
    "        id = obj['caveat_sentence_id']\n",
    "        \n",
    "        if not objs or id in caveat_sentence_ids_k:\n",
    "            objs.append(obj)\n",
    "        else:\n",
    "            objs.sort(key=lambda x: float(x['score']))\n",
    "            f_out.write(ujson.dumps({'id': id, 'results': objs}) + '\\n')\n",
    "            objs = []\n",
    "            \n",
    "    if not objs:\n",
    "        objs.sort(key=lambda x: float(x['score']))\n",
    "        f_out.write(ujson.dumps({'id': id, 'results': objs}) + '\\n')"
   ]
  },
  {
   "cell_type": "code",
   "execution_count": null,
   "metadata": {},
   "outputs": [],
   "source": []
  }
 ],
 "metadata": {
  "kernelspec": {
   "display_name": "nlp",
   "language": "python",
   "name": "nlp"
  },
  "language_info": {
   "codemirror_mode": {
    "name": "ipython",
    "version": 3
   },
   "file_extension": ".py",
   "mimetype": "text/x-python",
   "name": "python",
   "nbconvert_exporter": "python",
   "pygments_lexer": "ipython3",
   "version": "3.6.8"
  }
 },
 "nbformat": 4,
 "nbformat_minor": 2
}
