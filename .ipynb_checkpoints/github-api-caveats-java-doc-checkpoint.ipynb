{
 "cells": [
  {
   "cell_type": "code",
   "execution_count": 30,
   "metadata": {},
   "outputs": [],
   "source": [
    "import json\n",
    "import glob\n",
    "import os\n",
    "import nltk\n",
    "from random import sample "
   ]
  },
  {
   "cell_type": "code",
   "execution_count": 18,
   "metadata": {},
   "outputs": [],
   "source": [
    "caveat_files_dir = './output/java_12_spec_caveat_sentences/'\n",
    "caveats_dict = {}\n",
    "\n",
    "files = glob.glob(caveat_files_dir + '*.json')\n",
    "for file in files:\n",
    "    with open(file) as f:\n",
    "        arr = json.load(f)\n",
    "        for caveat in arr:\n",
    "            caveats_dict[caveat['id']] = caveat"
   ]
  },
  {
   "cell_type": "code",
   "execution_count": 24,
   "metadata": {},
   "outputs": [
    {
     "name": "stdout",
     "output_type": "stream",
     "text": [
      "Number of classes: 4712\n",
      "Number of caveats: 49114\n",
      "Number of class level caveat sentences: 10552\n",
      "Number of api level caveat sentences: 38382\n",
      "Number of misc caveat objects: 26490\n",
      "Number of deprecated caveats: 1522\n",
      "{'constructor': 4172, 'method': 33827, 'field': 6403}\n"
     ]
    }
   ],
   "source": [
    "# Print statistics about the caveats found using keywords\n",
    "\n",
    "caveat_type_count = {} # map caveat types to their counts\n",
    "print(\"Number of classes: {}\".format(len(files)))\n",
    "\n",
    "class_level_sentences = 0\n",
    "caveat_sentences = 0\n",
    "caveat_misc_objects = 0\n",
    "deprecated = 0\n",
    "num_caveats = len(caveats_dict)\n",
    "\n",
    "for key in caveats_dict:\n",
    "    caveat = caveats_dict[key]\n",
    "    \n",
    "    if \"class_level_caveat_sentences\" in caveat:\n",
    "        class_level_sentences += len(caveat[\"class_level_caveat_sentences\"])\n",
    "    else:\n",
    "        caveat_sentences += len(caveat['caveat_sentences'])\n",
    "        caveat_misc_objects += len(caveat['caveat_misc'])\n",
    "\n",
    "    if caveat['deprecated']:\n",
    "        deprecated += 1\n",
    "    \n",
    "    if 'type' in caveat:\n",
    "        if not caveat['type'] in caveat_type_count:\n",
    "            caveat_type_count[caveat['type']] = 1\n",
    "        else:\n",
    "            caveat_type_count[caveat['type']] += 1\n",
    "\n",
    "print(\"Number of caveats: {}\".format(num_caveats))\n",
    "print(\"Number of class level caveat sentences: {}\".format(class_level_sentences))\n",
    "print(\"Number of api level caveat sentences: {}\".format(caveat_sentences))  \n",
    "print(\"Number of misc caveat objects: {}\".format(caveat_misc_objects))\n",
    "print(\"Number of deprecated caveats: {}\".format(deprecated))\n",
    "print(caveat_type_count)"
   ]
  },
  {
   "cell_type": "code",
   "execution_count": 13,
   "metadata": {},
   "outputs": [],
   "source": [
    "def write_to_doccano_import_file(file, arr):\n",
    "    \"\"\" Write the dict objects within an input array to a json file in doccano import format \"\"\"\n",
    "    with open(file, 'w+') as f:\n",
    "        for obj in arr:\n",
    "            f.write(json.dumps(obj) + '\\n')"
   ]
  },
  {
   "cell_type": "code",
   "execution_count": 28,
   "metadata": {},
   "outputs": [
    {
     "name": "stdout",
     "output_type": "stream",
     "text": [
      "Number of method sentences: 34183\n",
      "Number of field sentences: 1930\n",
      "Number of constructor sentences: 2269\n",
      "Number of misc sentences: 57454\n"
     ]
    }
   ],
   "source": [
    "caveat_sentences_array = []\n",
    "sentence_id_to_caveat_id = {}\n",
    "\n",
    "for key in caveats_dict:\n",
    "    caveat = caveats_dict[key]\n",
    " \n",
    "    if 'class_level_caveat_sentences' in caveat:\n",
    "        for sentence in caveat['class_level_caveat_sentences']:\n",
    "            sentence_id_to_caveat_id[len(caveat_sentences_array)] = caveat['id']\n",
    "            caveat_sentences_array.append({\n",
    "                'text': sentence, \n",
    "                 'id': len(caveat_sentences_array),\n",
    "                 'type': 'class'\n",
    "            })\n",
    "    else:\n",
    "        for sentence in caveat['caveat_sentences']:\n",
    "            sentence_id_to_caveat_id[len(caveat_sentences_array)] = caveat['id']\n",
    "            caveat_sentences_array.append({\n",
    "                'text': sentence, \n",
    "                 'id': len(caveat_sentences_array),\n",
    "                 'type': caveat['type']\n",
    "            })\n",
    "\n",
    "            # add sentences for throws, returns etc...\n",
    "            if caveat['type'] in ['method', 'constructor']:\n",
    "                for misc in caveat['caveat_misc']:\n",
    "                    for sentence in misc['text']:\n",
    "                        sentence_id_to_caveat_id[len(caveat_sentences_array)] = caveat['id']\n",
    "                        caveat_sentences_array.append({\n",
    "                            'text': sentence, \n",
    "                             'id': len(caveat_sentences_array),\n",
    "                            'type': 'misc@' + misc['misc_name'] \n",
    "                        })\n",
    "\n",
    "print(\"Number of method sentences: {}\".format(\n",
    "    len([o for o in caveat_sentences_array if o['type'] == 'method'])))\n",
    "print(\"Number of field sentences: {}\".format(\n",
    "    len([o for o in caveat_sentences_array if o['type'] == 'field'])))\n",
    "print(\"Number of constructor sentences: {}\".format(\n",
    "    len([o for o in caveat_sentences_array if o['type'] == 'constructor'])))\n",
    "print(\"Number of misc sentences: {}\".format(\n",
    "    len([o for o in caveat_sentences_array if 'misc' in o['type']])))"
   ]
  },
  {
   "cell_type": "code",
   "execution_count": 36,
   "metadata": {},
   "outputs": [
    {
     "name": "stdout",
     "output_type": "stream",
     "text": [
      "500\n",
      "500\n"
     ]
    }
   ],
   "source": [
    "# write data to annotate to file\n",
    "non_misc_sentences = [obj for obj in caveat_sentences_array if 'misc' not in obj['type']]\n",
    "misc_sentences = [obj for obj in caveat_sentences_array if 'misc' in obj['type']]\n",
    "\n",
    "num_non_misc_to_annotate = 500\n",
    "num_misc_to_annotate = 500\n",
    "\n",
    "print(num_non_misc_to_annotate)\n",
    "print(num_misc_to_annotate)\n",
    "\n",
    "data_to_annotate = sample(non_misc_sentences, num_non_misc_to_annotate) + sample(misc_sentences, num_misc_to_annotate)\n",
    "write_to_doccano_import_file('./output/caveat_sentences_doccano.jsonl', data_to_annotate)"
   ]
  },
  {
   "cell_type": "code",
   "execution_count": null,
   "metadata": {},
   "outputs": [],
   "source": []
  }
 ],
 "metadata": {
  "kernelspec": {
   "display_name": "nlp",
   "language": "python",
   "name": "nlp"
  },
  "language_info": {
   "codemirror_mode": {
    "name": "ipython",
    "version": 3
   },
   "file_extension": ".py",
   "mimetype": "text/x-python",
   "name": "python",
   "nbconvert_exporter": "python",
   "pygments_lexer": "ipython3",
   "version": "3.6.8"
  }
 },
 "nbformat": 4,
 "nbformat_minor": 2
}
