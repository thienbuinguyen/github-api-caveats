{
 "cells": [
  {
   "cell_type": "code",
   "execution_count": 15,
   "metadata": {},
   "outputs": [],
   "source": [
    "import json\n",
    "import glob\n",
    "import os\n",
    "import nltk"
   ]
  },
  {
   "cell_type": "code",
   "execution_count": 16,
   "metadata": {},
   "outputs": [
    {
     "name": "stdout",
     "output_type": "stream",
     "text": [
      "['hello           world']\n"
     ]
    }
   ],
   "source": [
    "print(nltk.sent_tokenize('hello           world'))"
   ]
  },
  {
   "cell_type": "code",
   "execution_count": 5,
   "metadata": {},
   "outputs": [],
   "source": [
    "caveat_files_dir = './output/java_12_spec_caveat_sentences/'\n",
    "caveats_dict = {}\n",
    "\n",
    "files = glob.glob(caveat_files_dir + '*.json')\n",
    "for file in files:\n",
    "    with open(file) as f:\n",
    "        arr = json.load(f)\n",
    "        name = os.path.basename(file)\n",
    "        \n",
    "        caveats_dict[name] = arr"
   ]
  },
  {
   "cell_type": "code",
   "execution_count": 14,
   "metadata": {},
   "outputs": [
    {
     "name": "stdout",
     "output_type": "stream",
     "text": [
      "Number of classes: 4212\n",
      "Number of class level caveat sentences: 10698\n",
      "Number of api level caveat sentences: 39107\n",
      "Number of misc caveat sentences: 35919\n"
     ]
    }
   ],
   "source": [
    "# Print statistics about the number of caveat sentences found using keywords\n",
    "\n",
    "caveat_sentences_dict = {} # map api to array of sentences\n",
    "print(\"Number of classes: {}\".format(len(caveats_dict)))\n",
    "\n",
    "class_level_sentences = 0\n",
    "caveat_sentences = 0\n",
    "caveat_misc_sentences = 0\n",
    "\n",
    "for key in caveats_dict:\n",
    "    caveats = caveats_dict[key]\n",
    "    \n",
    "    for caveat in caveats:\n",
    "        if \"class_level_caveat_sentences\" in caveat:\n",
    "            class_level_sentences += len(caveat[\"class_level_caveat_sentences\"])\n",
    "        else:\n",
    "            caveat_sentences += len(caveat['caveat_sentences'])\n",
    "            caveat_misc_sentences += len(caveat['caveat_misc'])\n",
    "\n",
    "print(\"Number of class level caveat sentences: {}\".format(class_level_sentences))\n",
    "print(\"Number of api level caveat sentences: {}\".format(caveat_sentences))  \n",
    "print(\"Number of misc caveat sentences: {}\".format(caveat_misc_sentences))"
   ]
  },
  {
   "cell_type": "code",
   "execution_count": null,
   "metadata": {},
   "outputs": [],
   "source": []
  }
 ],
 "metadata": {
  "kernelspec": {
   "display_name": "nlp",
   "language": "python",
   "name": "nlp"
  },
  "language_info": {
   "codemirror_mode": {
    "name": "ipython",
    "version": 3
   },
   "file_extension": ".py",
   "mimetype": "text/x-python",
   "name": "python",
   "nbconvert_exporter": "python",
   "pygments_lexer": "ipython3",
   "version": "3.6.8"
  }
 },
 "nbformat": 4,
 "nbformat_minor": 2
}
