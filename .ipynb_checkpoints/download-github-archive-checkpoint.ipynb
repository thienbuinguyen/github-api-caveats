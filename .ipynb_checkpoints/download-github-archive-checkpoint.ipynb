{
 "cells": [
  {
   "cell_type": "code",
   "execution_count": 32,
   "metadata": {},
   "outputs": [],
   "source": [
    "import requests\n",
    "from multiprocessing.dummy import Pool # use threads for I/O bound tasks\n",
    "from multiprocessing import cpu_count"
   ]
  },
  {
   "cell_type": "code",
   "execution_count": 26,
   "metadata": {},
   "outputs": [],
   "source": [
    "files = []\n",
    "with open('./github_extract_corrupted.txt') as f:\n",
    "    for line in f:\n",
    "        file = line.strip().split('/')[-1]\n",
    "        files.append(file)"
   ]
  },
  {
   "cell_type": "code",
   "execution_count": null,
   "metadata": {},
   "outputs": [],
   "source": [
    "# generated file names for january\n",
    "jan_files = []\n",
    "for i in range(1, 32):\n",
    "    for time in range(24):\n",
    "        jan_files.append('2018-01-' + i + '-' + time + '.json.gz')"
   ]
  },
  {
   "cell_type": "code",
   "execution_count": 36,
   "metadata": {},
   "outputs": [],
   "source": [
    "def download_file(url, output_path):\n",
    "    local_filename = url.split('/')[-1]\n",
    "    \n",
    "    # NOTE the stream=True parameter below\n",
    "    with requests.get(url, stream=True) as r:\n",
    "        r.raise_for_status()\n",
    "        with open(output_path, 'wb') as f:\n",
    "            for chunk in r.iter_content(chunk_size=8192): \n",
    "                if chunk: # filter out keep-alive new chunks\n",
    "                    f.write(chunk)\n",
    "                    # f.flush()\n",
    "    return local_filename"
   ]
  },
  {
   "cell_type": "code",
   "execution_count": 34,
   "metadata": {},
   "outputs": [],
   "source": [
    "def download_gz(file_name):\n",
    "    url = 'https://data.gharchive.org/' + file_name\n",
    "    output_path = '/media/thien/Data Drive1/github-archive-redownload/' + file_name\n",
    "    \n",
    "    if os.path.exists(output_path):\n",
    "        return\n",
    "    \n",
    "    print(\"Downloading from {}\\n\".format(url))\n",
    "    download_file(url, output_path)"
   ]
  },
  {
   "cell_type": "code",
   "execution_count": null,
   "metadata": {},
   "outputs": [
    {
     "name": "stdout",
     "output_type": "stream",
     "text": [
      "Downloading from https://data.gharchive.org/2018-02-28-17.json.gzDownloading from https://data.gharchive.org/2018-11-06-20.json.gz\n",
      "\n",
      "Downloading from https://data.gharchive.org/2018-11-10-15.json.gzDownloading from https://data.gharchive.org/2018-11-15-18.json.gz\n",
      "\n",
      "Downloading from https://data.gharchive.org/2018-11-10-16.json.gz\n",
      "Downloading from https://data.gharchive.org/2018-11-15-19.json.gz\n",
      "Downloading from https://data.gharchive.org/2018-11-06-21.json.gz\n",
      "Downloading from https://data.gharchive.org/2018-11-10-17.json.gz\n",
      "Downloading from https://data.gharchive.org/2018-02-28-18.json.gz\n",
      "Downloading from https://data.gharchive.org/2018-11-06-22.json.gz\n",
      "Downloading from https://data.gharchive.org/2018-02-28-19.json.gz\n",
      "Downloading from https://data.gharchive.org/2018-11-15-2.json.gz\n",
      "Downloading from https://data.gharchive.org/2018-11-10-18.json.gz\n",
      "Downloading from https://data.gharchive.org/2018-11-06-3.json.gz\n",
      "Downloading from https://data.gharchive.org/2018-11-15-20.json.gz\n",
      "Downloading from https://data.gharchive.org/2018-11-10-19.json.gz\n",
      "Downloading from https://data.gharchive.org/2018-11-15-21.json.gz\n",
      "Downloading from https://data.gharchive.org/2018-11-10-22.json.gz\n",
      "Downloading from https://data.gharchive.org/2018-02-28-3.json.gz\n",
      "Downloading from https://data.gharchive.org/2018-11-06-5.json.gz\n",
      "Downloading from https://data.gharchive.org/2018-11-11-13.json.gz\n",
      "Downloading from https://data.gharchive.org/2018-11-06-6.json.gz\n",
      "Downloading from https://data.gharchive.org/2018-02-28-8.json.gz\n",
      "Downloading from https://data.gharchive.org/2018-11-11-14.json.gz\n",
      "Downloading from https://data.gharchive.org/2018-11-11-15.json.gz\n",
      "Downloading from https://data.gharchive.org/2018-02-28-9.json.gz\n",
      "Downloading from https://data.gharchive.org/2018-11-15-22.json.gz\n",
      "Downloading from https://data.gharchive.org/2018-11-06-7.json.gz\n",
      "Downloading from https://data.gharchive.org/2018-11-11-16.json.gz\n",
      "Downloading from https://data.gharchive.org/2018-11-11-17.json.gz\n",
      "Downloading from https://data.gharchive.org/2018-11-15-23.json.gz\n",
      "Downloading from https://data.gharchive.org/2018-03-01-0.json.gz\n",
      "Downloading from https://data.gharchive.org/2018-11-06-8.json.gz\n",
      "Downloading from https://data.gharchive.org/2018-11-15-3.json.gz\n",
      "Downloading from https://data.gharchive.org/2018-11-11-18.json.gz\n",
      "Downloading from https://data.gharchive.org/2018-11-15-5.json.gz\n",
      "Downloading from https://data.gharchive.org/2018-11-11-19.json.gz\n",
      "Downloading from https://data.gharchive.org/2018-03-01-11.json.gz\n",
      "Downloading from https://data.gharchive.org/2018-03-01-17.json.gz\n",
      "Downloading from https://data.gharchive.org/2018-11-15-6.json.gz\n",
      "Downloading from https://data.gharchive.org/2018-11-06-9.json.gz\n",
      "Downloading from https://data.gharchive.org/2018-11-11-20.json.gz\n",
      "Downloading from https://data.gharchive.org/2018-11-15-8.json.gz\n",
      "Downloading from https://data.gharchive.org/2018-11-11-22.json.gz\n",
      "Downloading from https://data.gharchive.org/2018-11-07-1.json.gz\n",
      "Downloading from https://data.gharchive.org/2018-03-01-20.json.gz\n",
      "Downloading from https://data.gharchive.org/2018-11-12-1.json.gz\n",
      "Downloading from https://data.gharchive.org/2018-11-15-9.json.gz\n",
      "Downloading from https://data.gharchive.org/2018-11-07-10.json.gz\n",
      "Downloading from https://data.gharchive.org/2018-11-12-10.json.gz\n",
      "Downloading from https://data.gharchive.org/2018-03-01-21.json.gz\n",
      "Downloading from https://data.gharchive.org/2018-11-07-11.json.gz\n",
      "Downloading from https://data.gharchive.org/2018-11-16-0.json.gz\n",
      "Downloading from https://data.gharchive.org/2018-03-01-22.json.gz\n"
     ]
    }
   ],
   "source": [
    "Pool(4).map(download_gz, files)"
   ]
  },
  {
   "cell_type": "code",
   "execution_count": null,
   "metadata": {},
   "outputs": [],
   "source": []
  }
 ],
 "metadata": {
  "kernelspec": {
   "display_name": "nlp",
   "language": "python",
   "name": "nlp"
  },
  "language_info": {
   "codemirror_mode": {
    "name": "ipython",
    "version": 3
   },
   "file_extension": ".py",
   "mimetype": "text/x-python",
   "name": "python",
   "nbconvert_exporter": "python",
   "pygments_lexer": "ipython3",
   "version": "3.6.8"
  }
 },
 "nbformat": 4,
 "nbformat_minor": 2
}
