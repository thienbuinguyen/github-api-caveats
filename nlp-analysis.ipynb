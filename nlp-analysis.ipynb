{
 "cells": [
  {
   "cell_type": "code",
   "execution_count": 12,
   "metadata": {},
   "outputs": [],
   "source": [
    "import ujson"
   ]
  },
  {
   "cell_type": "code",
   "execution_count": 20,
   "metadata": {},
   "outputs": [],
   "source": [
    "# input paths\n",
    "tfidf_path = './output/tfidf_results_new.jsonl'\n",
    "w2v_path = './output/word2vec_results_new.jsonl'\n",
    "bm25_path = './output/bm25_results_new.jsonl'\n",
    "combo_path = './output/combined_results_new.jsonl'\n",
    "\n",
    "# output paths\n",
    "tfidf_selected_path = './output/tfidf_selected.jsonl'\n",
    "w2v_selected_path = './output/w2v_selected.jsonl'\n",
    "bm25_selected_path = './output/bm25_selected.jsonl'\n",
    "combo_selected_path = './output/combo_selected_path.jsonl'"
   ]
  },
  {
   "cell_type": "code",
   "execution_count": 19,
   "metadata": {},
   "outputs": [
    {
     "name": "stdout",
     "output_type": "stream",
     "text": [
      "[{'score': 0.0548429083, 'sentence_index': 1299947}, {'score': 0.0221197567, 'sentence_index': 2719612}]\n"
     ]
    }
   ],
   "source": [
    "# TF-IDF\n",
    "with open(tfidf_path) as f:\n",
    "    for line in f:\n",
    "        obj = ujson.loads(line)\n",
    "\n",
    "        print(sorted(obj['tfidf_sim_scores'], key=lambda x: x['score'], reverse=True))\n",
    "        break\n"
   ]
  },
  {
   "cell_type": "code",
   "execution_count": 15,
   "metadata": {},
   "outputs": [
    {
     "name": "stdout",
     "output_type": "stream",
     "text": [
      "286530\n",
      "790708\n"
     ]
    }
   ],
   "source": [
    "# W2V\n",
    "with open(w2v_path) as f:\n",
    "    for line in f:\n",
    "        obj = ujson.loads(line)\n",
    "        t += len(obj['w2v_results'])\n",
    "        for res in obj['w2v_results']:\n",
    "            if res['score'] == 'nan':\n",
    "                c += 1\n",
    "print(c)\n",
    "print(t)"
   ]
  },
  {
   "cell_type": "code",
   "execution_count": null,
   "metadata": {},
   "outputs": [],
   "source": [
    "with open(bm25_path) as f:\n",
    "    for line in f:\n",
    "        obj = ujson.loads(line)\n",
    "        for res in obj['bm25_results']:\n",
    "            pass"
   ]
  },
  {
   "cell_type": "code",
   "execution_count": null,
   "metadata": {},
   "outputs": [],
   "source": [
    "with open(combo_path) as f:\n",
    "    for line in f:\n",
    "        obj = ujson.loads(line)\n",
    "        for res in obj['combination_results']:\n",
    "            pass"
   ]
  }
 ],
 "metadata": {
  "kernelspec": {
   "display_name": "nlp",
   "language": "python",
   "name": "nlp"
  },
  "language_info": {
   "codemirror_mode": {
    "name": "ipython",
    "version": 3
   },
   "file_extension": ".py",
   "mimetype": "text/x-python",
   "name": "python",
   "nbconvert_exporter": "python",
   "pygments_lexer": "ipython3",
   "version": "3.6.8"
  }
 },
 "nbformat": 4,
 "nbformat_minor": 2
}
