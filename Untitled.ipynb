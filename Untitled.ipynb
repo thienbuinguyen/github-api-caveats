{
 "cells": [
  {
   "cell_type": "code",
   "execution_count": 12,
   "metadata": {},
   "outputs": [
    {
     "name": "stdout",
     "output_type": "stream",
     "text": [
      "1051\n",
      "11\n"
     ]
    }
   ],
   "source": [
    "import ujson\n",
    "c = 0\n",
    "n = 0\n",
    "with open('./labelled_data/combo.jsonl') as f:\n",
    "    for line in f:\n",
    "        n += 1\n",
    "        obj = ujson.loads(line)\n",
    "        if obj['label'] == 'relevant':\n",
    "            c += 1\n",
    "\n",
    "print(n)\n",
    "print(c)"
   ]
  },
  {
   "cell_type": "code",
   "execution_count": null,
   "metadata": {},
   "outputs": [],
   "source": []
  }
 ],
 "metadata": {
  "kernelspec": {
   "display_name": "nlp",
   "language": "python",
   "name": "nlp"
  },
  "language_info": {
   "codemirror_mode": {
    "name": "ipython",
    "version": 3
   },
   "file_extension": ".py",
   "mimetype": "text/x-python",
   "name": "python",
   "nbconvert_exporter": "python",
   "pygments_lexer": "ipython3",
   "version": "3.6.8"
  }
 },
 "nbformat": 4,
 "nbformat_minor": 2
}
